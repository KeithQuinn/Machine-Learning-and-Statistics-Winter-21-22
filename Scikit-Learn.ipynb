{
 "cells": [
  {
   "cell_type": "markdown",
   "metadata": {},
   "source": [
    "# sci-kit learn\n",
    "***\n",
    "## Introduction\n",
    "\n",
    "Scikit-learn is a popular Python library used in the field of machine learning. It's integrated with other Python packages including NumPy, SciPy, matplotlib and Pandas [3]. Scikit-learn was initially developed as a Google summer of code project in 2007 by David Cournapeau, then further developed by Fabian Pedregosa, Gael Varoquaux, Alexandre Gramfort and Vincent Michel from the French Institute for Research in Computer Science and Automation. The first public release was in January 2010 [1]."
   ]
  },
  {
   "cell_type": "markdown",
   "metadata": {},
   "source": [
    "## What is machine learning\n",
    "In computer science there is an ever evolving area known as machine learning. In machine learning, algorithms are used to analyse data and in doing do look for patterns. The different data types that are analysed include:\n",
    "\n",
    "* Numbers \n",
    "* Words \n",
    "* Images \n",
    "* Clicks \n",
    "\n",
    "Through data analysis and statistics and the machine learns, and from this it can make predictions about the future [2]. Machine learning is so interesting and powerful because anything that can be digitally stored can be fed into a machine learning algorithm. Another interesting part of machine learning is how common it is, it's used on systems such as Netflix and You-Tube to recommend what to watch, also on search engines such as Google and Social media platforms such as Instagram and Facebook [4]\n",
    "\n",
    "\n",
    "Machine learning is the process that powers many of the services we use today—recommendation systems like those on Netflix, YouTube, and Spotify; search engines like Google and Baidu; social-media feeds like Facebook and Twitter; voice assistants like Siri and Alexa. The list goes on.\n",
    "\n",
    "In all of these instances, each platform is collecting as much data about you as possible—what genres you like watching, what links you are clicking, which statuses you are reacting to—and using machine learning to make a highly educated guess about what you might want next. Or, in the case of a voice assistant, about which words match best with the funny sounds coming out of your mouth.\n",
    "\n",
    "Frankly, this process is quite basic: find the pattern, apply the pattern. But it pretty much runs the world. That’s in big part thanks to an invention in 1986, courtesy of Geoffrey Hinton, today known as the father of deep learning.\n",
    "\n",
    "### Machine learning methods\n",
    "\n",
    "#### Supervised learning\n",
    "\n",
    "#### Unsupervised learning"
   ]
  },
  {
   "cell_type": "markdown",
   "metadata": {},
   "source": [
    "#### Classification\n",
    "\n",
    "#### Clustering\n",
    "\n",
    "#### Regression"
   ]
  },
  {
   "cell_type": "markdown",
   "metadata": {},
   "source": [
    "## Machine learning algorithms in sci-kit-learn"
   ]
  },
  {
   "cell_type": "markdown",
   "metadata": {},
   "source": [
    "## A simple example"
   ]
  },
  {
   "cell_type": "code",
   "execution_count": null,
   "metadata": {},
   "outputs": [],
   "source": []
  }
 ],
 "metadata": {
  "kernelspec": {
   "display_name": "Python 3",
   "language": "python",
   "name": "python3"
  },
  "language_info": {
   "codemirror_mode": {
    "name": "ipython",
    "version": 3
   },
   "file_extension": ".py",
   "mimetype": "text/x-python",
   "name": "python",
   "nbconvert_exporter": "python",
   "pygments_lexer": "ipython3",
   "version": "3.8.3"
  }
 },
 "nbformat": 4,
 "nbformat_minor": 4
}
