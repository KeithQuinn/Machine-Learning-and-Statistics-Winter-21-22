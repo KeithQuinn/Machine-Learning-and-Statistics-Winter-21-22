{
 "cells": [
  {
   "cell_type": "markdown",
   "metadata": {},
   "source": [
    "# Machine Learning and Statistics, Winter 21/22 Assessment - scikit-learn\n",
    "***\n",
    "## Notebook objectives\n",
    "* Provide a clear and concise overview of the scikit-learn Python library\n",
    "* Provide demonstrations of three interesting scikit-learn algorithms. You may choose these yourself, based on what is covered in class or otherwise. Note that the demonstrations are at your discretion – you may choose to have an overall spread of examples across the library or pick a particular part that you find interesting.\n",
    "* Appropriate plots and other visualisations to enhance your notebook for viewers.\n",
    "***"
   ]
  },
  {
   "cell_type": "markdown",
   "metadata": {},
   "source": [
    "# Machine Learning and Statistics, Winter 21/22 Assessment - scikit-learn\n",
    "***\n",
    "## 1) scikit-learn Introduction\n",
    "***\n",
    "\n",
    "Within the Python programming package there's a machine learning library known as scikit-learn. The scikit-learn library is integrated with other Python packages including NumPy, SciPy, matplotlib and Pandas [1].\n",
    "\n",
    "Scikit-learn was initially developed as a Google summer of code project in 2007 by David Cournapeau, then further developed by Fabian Pedregosa, Gael Varoquaux, Alexandre Gramfort and Vincent Michel from the French Institute for Research in Computer Science and Automation. The first public release was in January 2010 [2]. Many industries from engineering to banking to social media depend heavily on machine learning as part of their day to day operations and one of the most common tools used in the application of machine learning is the scikit-learn Python package. \n",
    "\n",
    "There are many machine learning algorithms built into the scikit-learn library that can be used for many types of machine learning applications. In the following section of this notebook there's an overview of what machine learning followed by some worked examples. In these examples, algorithms from the scikit-learn package are used to train models on datasets, then analyse how the algorithms perform."
   ]
  },
  {
   "cell_type": "markdown",
   "metadata": {},
   "source": [
    "## 2) Machine Learning\n",
    "***\n",
    "Within computer science there's a subfield known as Artificial Intelligence (AI) and within AI there's a subfield known as Machine Learning. In traditional computer science the programmer/developer writes the program line by line and provides the data for the program to run. In machine learning the programmer/developer gives the system the data and the output and trains the system to produce the program [3].\n",
    "<br>\n",
    "<br>\n",
    "<div>\n",
    "<img src=\"TraditionalML.PNG\" width=\"300\"/>\n",
    "</div>\n",
    "\n",
    "<center><b> Figure 1: Traditional Computer Science vs Machine Learning </b></center>\n",
    "<br>\n",
    "\n",
    "With Machine learning there are models/algorithms that are trained using data, just like a human is trained on past experiences. The machine uses these models/algorithms to find patterns and make predictions, these predictions are made automatically without human interaction.\n",
    "\n",
    "<br>\n",
    "<div>\n",
    "<img src=\"MachineLearning.JPG\" width=\"500\"/>\n",
    "</div>\n",
    "\n",
    "<center><b> Figure 2: Human learning and traditional computer programming </b></center>\n",
    "<br>\n",
    "\n",
    "\n",
    "Machine Learning is becoming increasingly popular in recent times with the advancements in computer science and technology. However it's important to note that this ever evolving area of computer science is not a new phenomenon as it's been studied for decades. In 1959, Arthur Samuel, a pioneer in the field of machine learning (ML) defined it as the “field of study that gives computers the ability to learn without being explicitly programmed”[4].In machine learning, algorithms are used to analyse data and in doing do look for patterns. The different data types that are analysed include but not limited to:\n",
    "\n",
    "* Numbers \n",
    "* Words \n",
    "* Images \n",
    "* Clicks \n",
    "\n",
    "Through data analysis and statistics the machine learns, and based on past conditions it can make predictions about the future. Machine learning is so interesting and powerful because anything that can be digitally stored can be fed into a machine learning algorithm. Another interesting part of machine learning is how common it is, it's used on systems such as Netflix and YouTube to recommend what to watch, also on search engines such as Google and Social media platforms such as Instagram and Facebook for advertising [5]. \n",
    "\n",
    "With all these systems the machine is collecting data around film genres that interest you, the music you listen to, the products you buy, what links you click, what posts you like or dislike, based on this past behaviour the machine can predict with confidence about what movie you'd like to watch next, the song you'd like to listen to next, where you'll spend your money and where you won't spend your money[5]."
   ]
  },
  {
   "cell_type": "markdown",
   "metadata": {},
   "source": [
    "### 2.1) Supervised and Unsupervised Learning\n",
    "***\n",
    "Machine learning can be sub divided into two areas; machine learning through supervised learning and machine learning through unsupervised learning. The key difference between the two is that the data used in supervised learning is labeled and unlabeled  for unsupervised learning [6]."
   ]
  },
  {
   "cell_type": "markdown",
   "metadata": {},
   "source": [
    "#### 2.1.1) Supervised learning\n",
    "Labeled data is data that has the answer that the machine learning model has to predict [6]. From Figure 1 it can be seen that labelled data was used to train the machine, the data was labelled as \"cats\" based on the algorithm the machine was able to predict correctly when presented with 4 animals, two of which were cats. The following sections will discuss in more detail supervised and unsupervised learning.\n",
    "\n",
    "<div>\n",
    "<img src=\"Supervised_machine_learning.png\" width=\"700\"/>\n",
    "</div>\n",
    "\n",
    "<center><b> Figure 3 Labelled data for supervised learning </b></center>\n",
    "\n",
    "\n",
    "\n",
    "#### 2.1.2) Unsupervised learning\n",
    "Unsupervised learning means that the data in unlabeled meaning that it's impossible to pridict the accuracy of the model. In unsupervised learning the model is given the unlabeled dataset and will try to learn some sort of structure or pattern from the data. Clustering Algorithms are commonly used in unsupervised learning. Take for example a dataset of peoples heights and weights for a given age are provided but the data isn't labeled male or female. The unsupervised clustering algorithm can start to cluster the data into groups potentially resulting in two distinct clusters which through inference it could be said that the groups are male and female [7].\n",
    "\n",
    "<div>\n",
    "<img src=\"Unsupervised.PNG\" width=\"600\"/>\n",
    "</div>\n",
    "\n",
    "<center><b> Figure 4 Unsupervised and supervised learning </b></center>\n",
    "\n",
    "\n",
    "What's interesting in Figure 4 is that the same dataset was used to demonstrate supervised an unsupervised. In the supervised with the labelled data the groups can be split into male and female for example but in the unsupervised the two groups are just separated into two clusters with no labels."
   ]
  },
  {
   "cell_type": "markdown",
   "metadata": {},
   "source": [
    "## 3) Machine Learning Algorithms in scikit-learn\n",
    "***\n",
    "From the Machine Learning and Statistics module assessment specification - \"Demonstrations of three interesting scikit-learn algorithms. You may choose these yourself, based on what is covered in class or otherwise. Note that the demonstrations are at your discretion – you may choose to have an overall spread of examples across the library or pick a particular part that you find interesting.\"\n",
    "\n",
    "The approach for this part of the notebook is to pick three interesting scikit-learn algorithms. A high level overview of each of the algoithms is provided in this section. In the following sections there are worked examples of each of the three algorithms. The algorithms selected for this notebook are:\n",
    "\n",
    "* LinearRegression()\n",
    "* RandomForestClassifier()\n",
    "* KNeighborsClassifier()\n",
    "\n",
    "### 3.1) Regression and Classification\n",
    "***\n",
    "This notebook looks at supervised learning only. It's important to note that there are two types of supervised machine learning algorithms presented in this notebook, they are:\n",
    "\n",
    "* Regression\n",
    "* Classification\n",
    "\n",
    "Regression predicts continuous value outputs while classification predicts discrete outputs. For instance, predicting the weight of someone based on their height is a regression problem whereas predicting someones gender is a classification problem [8].\n",
    "\n",
    "\n",
    "### 3.2) LinearRegression()\n",
    "***\n",
    "Within regression, linear regression is the most basic machine learning algorithm. The model will predict an output based on inputs and learning. In this notebook LinearRegression() is used in two cases:\n",
    "\n",
    "* predict if someone has diabetes.\n",
    "* predict the price of house prices in Boston.\n",
    "\n",
    "The diabetes dataset is a built in dataset and the Boston house prices dataset was sourced online (reference included below).\n",
    "\n",
    "### 3.3) RandomForestClassifier()\n",
    "***\n",
    "RandomForestClassifier() can be used for regression or for classification. A random forest is a meta estimator that fits a number of decision tree classifiers on various sub-samples of the dataset and uses averaging to improve the predictive accuracy and control over-fitting. The sub-sample size is controlled with the max_samples parameter if bootstrap=True (default), otherwise the whole dataset is used to build each tree [9]. The RandomForestClassifier() is used in this notebook along with the iris data set. A model is built that can predict the Iris class based on a never before seen set of inputs. \n",
    "\n",
    "### 3.4) KNeighborsClassifier()\n",
    "***\n",
    "The k-nearest neighbors (KNN) algorithm is a simple, easy-to-implement supervised machine learning algorithm that can be used to solve both classification and regression problems. The KNN algorithm assumes that similar things exist in close proximity. In other words, similar things are near to each other [10]."
   ]
  },
  {
   "cell_type": "code",
   "execution_count": null,
   "metadata": {},
   "outputs": [],
   "source": [
    "#import libraries\n",
    "import matplotlib.pyplot as plt # plotting library\n",
    "from sklearn import datasets # datasets built into scikit-learn\n",
    "import numpy as np\n",
    "import pandas as pd\n",
    "from sklearn.model_selection import train_test_split # import train_test_split from scikit-learn library\n",
    "from sklearn import linear_model # importing linear_model from scikit-learn\n",
    "from sklearn.metrics import mean_squared_error, r2_score # importing some statistics packages from scikit-learn\n",
    "import seaborn as sns"
   ]
  },
  {
   "cell_type": "markdown",
   "metadata": {},
   "source": [
    "## 4) scikit-learn Algorithm 1 - LinearRegression()\n",
    "***\n",
    "\n",
    "### 4.1) LinearRegression() - Diabetes dataset [11]\n",
    "***\n",
    "\n",
    "The diabetes data set consists of ten baseline variables, age, sex, body mass index, average blood pressure, and six blood serum measurements were obtained for each of n = 442 diabetes patients, as well as the response of interest, a quantitative measure of disease progression one year after baseline. Full details of the dataset are provided after running the following code cell."
   ]
  },
  {
   "cell_type": "code",
   "execution_count": null,
   "metadata": {
    "scrolled": true
   },
   "outputs": [],
   "source": [
    "# Load dataset from scikit-learn dataset library\n",
    "diabetes = datasets.load_diabetes() # loads the dataset\n",
    "print()\n",
    "print('Dataset shape:',diabetes.data.shape) # shape of the data\n",
    "print()\n",
    "print('Diabetes labels shape:',diabetes.target.shape) # shape of the target (y-variable)\n",
    "print()\n",
    "print('Diabetes feature names:',diabetes.feature_names) # feature names (x-variables)\n",
    "print()\n",
    "print()\n",
    "print('|------------------------------------------- DataSet Description -------------------------------------------|')\n",
    "print()\n",
    "print(diabetes.DESCR) # description of the dataset\n",
    "\n",
    "df = pd.DataFrame(data=diabetes.data, columns=diabetes.feature_names) # setting dataframe for the features (x-variables)\n",
    "df[\"target\"] = diabetes.target # setting dataframe for the labels (y-variables)\n",
    "\n",
    "X,Y = diabetes = datasets.load_diabetes(return_X_y=True) # setting X and Y to features and labels"
   ]
  },
  {
   "cell_type": "code",
   "execution_count": null,
   "metadata": {},
   "outputs": [],
   "source": [
    "df.head() # check that the correct dataset is loaded"
   ]
  },
  {
   "cell_type": "code",
   "execution_count": null,
   "metadata": {},
   "outputs": [],
   "source": [
    "X.shape, Y.shape # 10 features and 442 rows, and 1 target with 442 rows "
   ]
  },
  {
   "cell_type": "markdown",
   "metadata": {},
   "source": [
    "### 4.1.1) Splitting the data\n",
    "***\n",
    "With the data loaded and description provided above the next step is to start setting up the data for the model. The first step is to import the train_test_split function from the scikit-learn library. This function is very useful as it enables functionality to split the data into training and testing groups. In the example below the test size is set to 0.2 meaning that 20% of the data is held for testing the model, the other 80% is usedto train the model."
   ]
  },
  {
   "cell_type": "code",
   "execution_count": null,
   "metadata": {},
   "outputs": [],
   "source": [
    "X_train, X_test, Y_train, Y_test = train_test_split(X, Y, test_size=0.2) # split the data into 80% train, 20% test for both the features and the targets"
   ]
  },
  {
   "cell_type": "code",
   "execution_count": null,
   "metadata": {},
   "outputs": [],
   "source": [
    "X_train.shape, Y_train.shape # original dataset was 442,10, 80% of this is 353,10 for features and 353,1 for target"
   ]
  },
  {
   "cell_type": "code",
   "execution_count": null,
   "metadata": {},
   "outputs": [],
   "source": [
    "X_test.shape, Y_test.shape # original dataset was 442,10, 20% of this is 89,10 for features and 89, 1 for target"
   ]
  },
  {
   "cell_type": "markdown",
   "metadata": {},
   "source": [
    "### 4.1.2) Linear Regression Model\n",
    "***\n",
    "In this section the Linear Regression Model is built. This starts by importing the linear_model from the scikit-learn library. "
   ]
  },
  {
   "cell_type": "code",
   "execution_count": null,
   "metadata": {},
   "outputs": [],
   "source": [
    "model = linear_model.LinearRegression() # define the model as LinearRegression() from linear_model\n",
    "model.fit(X_train, Y_train) # train the model using the data, X_train being the features, Y_train being the labels"
   ]
  },
  {
   "cell_type": "markdown",
   "metadata": {},
   "source": [
    "### 4.1.3) Predict the output\n",
    "In this section the model is used to predict using the test data."
   ]
  },
  {
   "cell_type": "code",
   "execution_count": null,
   "metadata": {},
   "outputs": [],
   "source": [
    "Y_pred = np.round(model.predict(X_test),2) # predict Y values using the X_test inputs"
   ]
  },
  {
   "cell_type": "markdown",
   "metadata": {},
   "source": [
    "### 4.1.4) Model Performance\n",
    "***\n",
    "In this section the performance of the model is shown, included are the coefficients for each feature, the intercept, the mean squared error and the coefficient of determinition."
   ]
  },
  {
   "cell_type": "code",
   "execution_count": null,
   "metadata": {},
   "outputs": [],
   "source": [
    "print('Coefficients:', model.coef_) # coefficients of the linear regression model for each feature\n",
    "print('Intercept:', model.intercept_) # the model Y interept\n",
    "print('Mean squared error (MSE): %.3f' % mean_squared_error(Y_test, Y_pred)) # mean squared error\n",
    "print('Coefficient of determination (R^2): %.3f' % r2_score(Y_test, Y_pred)) # coefficient of determination"
   ]
  },
  {
   "cell_type": "code",
   "execution_count": null,
   "metadata": {},
   "outputs": [],
   "source": [
    "print(f'{(round(model.score(X_test, Y_test)*100,2))} %') # model score"
   ]
  },
  {
   "cell_type": "code",
   "execution_count": null,
   "metadata": {
    "scrolled": true
   },
   "outputs": [],
   "source": [
    "sns.scatterplot(Y_test, Y_pred, alpha = 0.5) # scatterplot showing spread of data"
   ]
  },
  {
   "cell_type": "markdown",
   "metadata": {},
   "source": [
    "### 4.2) LinearRegression() - Boston Housing dataset [11] \n",
    "***\n",
    "[8]\n",
    "The diabetes data set consists of Number of Attributes: 13 numeric/categorical predictive. Median Value (attribute 14) is usually the target. Number of Instances: 506. Full details of the Boston Housing dataset  are provided after running the following code cell."
   ]
  },
  {
   "cell_type": "code",
   "execution_count": null,
   "metadata": {},
   "outputs": [],
   "source": [
    "boston = datasets.load_boston() # Load dataset from scikit-learn dataset library\n",
    "print()\n",
    "print('Boston Housing shape:',boston.data.shape) # shape of the data\n",
    "print()\n",
    "print('Boston Housing shape:',boston.target.shape) # shape of the target (y-variable)\n",
    "print()\n",
    "print('Boston Housing names:',boston.feature_names)  # feature names (x-variables)\n",
    "print()\n",
    "print()\n",
    "print('|------------------------------------------- DataSet Description -------------------------------------------|')\n",
    "print()\n",
    "print(boston.DESCR) # description of the dataset\n",
    "\n",
    "df = pd.DataFrame(data=boston.data, columns=boston.feature_names)\n",
    "df[\"medv\"] = boston.target # setting dataframe for the labels (y-variables)\n",
    "\n",
    "X,Y = boston = datasets.load_boston(return_X_y=True) # setting X and Y to features and labels"
   ]
  },
  {
   "cell_type": "code",
   "execution_count": null,
   "metadata": {},
   "outputs": [],
   "source": [
    "df.head() # 13 features and 1 target"
   ]
  },
  {
   "cell_type": "markdown",
   "metadata": {},
   "source": [
    "### 4.2.1) Splitting the data\n",
    "***"
   ]
  },
  {
   "cell_type": "code",
   "execution_count": null,
   "metadata": {},
   "outputs": [],
   "source": [
    "X = df.drop(['medv'], axis=1) # x variables\n",
    "X.head()"
   ]
  },
  {
   "cell_type": "code",
   "execution_count": null,
   "metadata": {},
   "outputs": [],
   "source": [
    "Y = df['medv'] # y variable\n",
    "Y.head()"
   ]
  },
  {
   "cell_type": "markdown",
   "metadata": {},
   "source": [
    "### 4.2.2) Linear Regression Model\n",
    "***"
   ]
  },
  {
   "cell_type": "code",
   "execution_count": null,
   "metadata": {},
   "outputs": [],
   "source": [
    "X_train, X_test, Y_train, Y_test = train_test_split(X, Y, test_size=0.2) # split the data into 80% train, 20% test for both the features and the targets"
   ]
  },
  {
   "cell_type": "code",
   "execution_count": null,
   "metadata": {},
   "outputs": [],
   "source": [
    "X_train.shape, Y_train.shape # original dataset was 506,13, 80% of this is 404,13 for features and 404, 1 for target"
   ]
  },
  {
   "cell_type": "code",
   "execution_count": null,
   "metadata": {},
   "outputs": [],
   "source": [
    "X_test.shape, Y_test.shape # original dataset was 506,13, 20% of this is 102,13 for features and 102,1 for target"
   ]
  },
  {
   "cell_type": "code",
   "execution_count": null,
   "metadata": {},
   "outputs": [],
   "source": [
    "model = linear_model.LinearRegression() # define the model as LinearRegression() from linear_model\n",
    "model.fit(X_train, Y_train)# train the model using the data, X_train being the features, Y_train being the labels"
   ]
  },
  {
   "cell_type": "markdown",
   "metadata": {},
   "source": [
    "### 4.2.3) Predict the output\n",
    "***"
   ]
  },
  {
   "cell_type": "code",
   "execution_count": null,
   "metadata": {},
   "outputs": [],
   "source": [
    "Y_pred = np.round(model.predict(X_test),2) # predict Y values using the X_test inputs"
   ]
  },
  {
   "cell_type": "markdown",
   "metadata": {},
   "source": [
    "### 4.2.4) Model Performance\n",
    "***"
   ]
  },
  {
   "cell_type": "code",
   "execution_count": null,
   "metadata": {},
   "outputs": [],
   "source": [
    "print('Coefficients:', model.coef_) # coefficients of the linear regression model for each feature\n",
    "print('Intercept:', model.intercept_) # the model Y interept\n",
    "print('Mean squared error (MSE): %.3f' % mean_squared_error(Y_test, Y_pred)) # mean squared error\n",
    "print('Coefficient of determination (R^2): %.3f' % r2_score(Y_test, Y_pred)) # coefficient of determination"
   ]
  },
  {
   "cell_type": "code",
   "execution_count": null,
   "metadata": {},
   "outputs": [],
   "source": [
    "print(f'{(round(model.score(X_test, Y_test)*100,2))} %') # model score "
   ]
  },
  {
   "cell_type": "code",
   "execution_count": null,
   "metadata": {},
   "outputs": [],
   "source": [
    " sns.scatterplot(Y_pred, Y_test) # scatterplot showing spread of data"
   ]
  },
  {
   "cell_type": "markdown",
   "metadata": {},
   "source": [
    "## 5) scikit-learn Algorithm 2 - RandomForestClassifier()\n",
    "***\n",
    "### 5.1) RandomForestClassifier() - Iris dataset [12]\n",
    "***"
   ]
  },
  {
   "cell_type": "markdown",
   "metadata": {},
   "source": [
    "#### 5.1.1) Load the libraries"
   ]
  },
  {
   "cell_type": "code",
   "execution_count": null,
   "metadata": {},
   "outputs": [],
   "source": [
    "from sklearn.ensemble import RandomForestClassifier # import RandomForestClassifier from scikit learn.\n",
    "from sklearn.datasets import make_classification # import make_classification from scikit learn."
   ]
  },
  {
   "cell_type": "markdown",
   "metadata": {},
   "source": [
    "#### 5.1.2) Load the dataset"
   ]
  },
  {
   "cell_type": "code",
   "execution_count": null,
   "metadata": {},
   "outputs": [],
   "source": [
    "iris = datasets.load_iris() # loading the iris dataset"
   ]
  },
  {
   "cell_type": "markdown",
   "metadata": {},
   "source": [
    "#### 5.1.3) View the dataset"
   ]
  },
  {
   "cell_type": "code",
   "execution_count": null,
   "metadata": {},
   "outputs": [],
   "source": [
    "print(iris.feature_names) # print the feature names\n",
    "print(iris.target) # print iris targets\n",
    "print(iris.target_names) # print iris target names"
   ]
  },
  {
   "cell_type": "code",
   "execution_count": null,
   "metadata": {
    "scrolled": true
   },
   "outputs": [],
   "source": [
    "print(iris.DESCR) # full description of the dataset"
   ]
  },
  {
   "cell_type": "markdown",
   "metadata": {},
   "source": [
    "#### 5.1.4) Setting the variables and displaying the shape"
   ]
  },
  {
   "cell_type": "code",
   "execution_count": null,
   "metadata": {},
   "outputs": [],
   "source": [
    "X = iris.data # X id defined as the iris features.\n",
    "Y = iris.target # Y is defined as the iris labels."
   ]
  },
  {
   "cell_type": "code",
   "execution_count": null,
   "metadata": {},
   "outputs": [],
   "source": [
    "X.shape # shape of X, 150 rows with 4 features."
   ]
  },
  {
   "cell_type": "code",
   "execution_count": null,
   "metadata": {},
   "outputs": [],
   "source": [
    "Y.shape # shape of Y, 150 rows with 1 set of labels."
   ]
  },
  {
   "cell_type": "markdown",
   "metadata": {},
   "source": [
    "#### 5.1.5) Training the model using all data"
   ]
  },
  {
   "cell_type": "code",
   "execution_count": null,
   "metadata": {},
   "outputs": [],
   "source": [
    "clf = RandomForestClassifier() # setting RandomForestClassifier() equal to clf."
   ]
  },
  {
   "cell_type": "code",
   "execution_count": null,
   "metadata": {},
   "outputs": [],
   "source": [
    "clf.fit(X, Y) # training the model using all the data."
   ]
  },
  {
   "cell_type": "code",
   "execution_count": null,
   "metadata": {},
   "outputs": [],
   "source": [
    "print(clf.feature_importances_)\n",
    "print(iris.feature_names)"
   ]
  },
  {
   "cell_type": "markdown",
   "metadata": {},
   "source": [
    "#### 5.1.5) Model Predictions"
   ]
  },
  {
   "cell_type": "code",
   "execution_count": null,
   "metadata": {},
   "outputs": [],
   "source": [
    "X[0] # value of X at position 0 to be used for testing."
   ]
  },
  {
   "cell_type": "code",
   "execution_count": null,
   "metadata": {},
   "outputs": [],
   "source": [
    "print(clf.predict([[1, 5.5, 4, 5.2]])) # make prediction using the inputs provided."
   ]
  },
  {
   "cell_type": "code",
   "execution_count": null,
   "metadata": {},
   "outputs": [],
   "source": [
    "print(clf.predict_proba(X[[0]])) # the probability of the prediction."
   ]
  },
  {
   "cell_type": "code",
   "execution_count": null,
   "metadata": {},
   "outputs": [],
   "source": [
    "clf.fit(iris.data, iris.target_names[iris.target]) # to get the names of the targets from the numbers."
   ]
  },
  {
   "cell_type": "markdown",
   "metadata": {},
   "source": [
    "#### 5.1.6) Training the model using train_test_split\n",
    "The previous model used the full data set to train the model, next section looks at train_test_split."
   ]
  },
  {
   "cell_type": "code",
   "execution_count": null,
   "metadata": {},
   "outputs": [],
   "source": [
    "X_train, X_test, Y_train, Y_test = train_test_split(X, Y, test_size=0.2) # train the model using 80% of the data."
   ]
  },
  {
   "cell_type": "code",
   "execution_count": null,
   "metadata": {},
   "outputs": [],
   "source": [
    "X_train.shape, Y_train.shape # 80% of the original dataset 150 is 120."
   ]
  },
  {
   "cell_type": "code",
   "execution_count": null,
   "metadata": {},
   "outputs": [],
   "source": [
    "X_test.shape, Y_test.shape # 20% of the original dataset 150 is 30."
   ]
  },
  {
   "cell_type": "code",
   "execution_count": null,
   "metadata": {},
   "outputs": [],
   "source": [
    "clf.fit(X_train, Y_train) # training the model using 80% of the data."
   ]
  },
  {
   "cell_type": "code",
   "execution_count": null,
   "metadata": {},
   "outputs": [],
   "source": [
    "print(clf.predict([[5.1, 3.5, 1.4, 0.2]])) # make prediction using the inputs provided."
   ]
  },
  {
   "cell_type": "code",
   "execution_count": null,
   "metadata": {},
   "outputs": [],
   "source": [
    "print(clf.predict_proba(X[[0]])) # the probability of the prediction."
   ]
  },
  {
   "cell_type": "code",
   "execution_count": null,
   "metadata": {},
   "outputs": [],
   "source": [
    "print(clf.predict(X_test)) # make predictions on the 20% of the data left out from training the model."
   ]
  },
  {
   "cell_type": "code",
   "execution_count": null,
   "metadata": {},
   "outputs": [],
   "source": [
    "print(Y_test) # the 20% of the labeled data, will be used to make comparisons with the predictions."
   ]
  },
  {
   "cell_type": "markdown",
   "metadata": {},
   "source": [
    "#### 5.1.7) Analysing the model performance"
   ]
  },
  {
   "cell_type": "code",
   "execution_count": null,
   "metadata": {
    "scrolled": true
   },
   "outputs": [],
   "source": [
    "print(clf.score(X_test, Y_test)) # compares the predicted with the actual."
   ]
  },
  {
   "cell_type": "markdown",
   "metadata": {},
   "source": [
    "## 6) scikit-learn Algorithm 3 - KNeighborsClassifier()\n",
    "***"
   ]
  },
  {
   "cell_type": "markdown",
   "metadata": {},
   "source": [
    "### 6.1) Import libraries\n",
    "***"
   ]
  },
  {
   "cell_type": "code",
   "execution_count": null,
   "metadata": {},
   "outputs": [],
   "source": [
    "from sklearn import preprocessing, neighbors # import preprocessing and neighbors from scikit-learn.\n",
    "from sklearn.model_selection import cross_validate # import cross_validate from scikit-learn."
   ]
  },
  {
   "cell_type": "markdown",
   "metadata": {},
   "source": [
    "### 6.2) Read in Dataset\n",
    "***"
   ]
  },
  {
   "cell_type": "code",
   "execution_count": null,
   "metadata": {},
   "outputs": [],
   "source": [
    "df = pd.read_csv('breast-cancer-wisconsin.data')\n",
    "df.head()"
   ]
  },
  {
   "cell_type": "markdown",
   "metadata": {},
   "source": [
    "### 6.3) Tidy up Dataset\n",
    "***"
   ]
  },
  {
   "cell_type": "code",
   "execution_count": null,
   "metadata": {},
   "outputs": [],
   "source": [
    "df.replace('?', -99999, inplace=True) # replace the missing data with -99999, algorithm recognises this as an outlier and will treat it as such.\n",
    "df.drop(['id'], 1, inplace=True) # drop id column to avoid unnecessary noise"
   ]
  },
  {
   "cell_type": "code",
   "execution_count": null,
   "metadata": {},
   "outputs": [],
   "source": [
    "df.tail() # shows cleaned data"
   ]
  },
  {
   "cell_type": "markdown",
   "metadata": {},
   "source": [
    "### 6.4) Setting the variables\n",
    "***"
   ]
  },
  {
   "cell_type": "code",
   "execution_count": null,
   "metadata": {},
   "outputs": [],
   "source": [
    "X = np.array(df.drop(['class'], 1)) # setting the features as X\n",
    "y = np.array(df['class']) # setting class as the labeled data"
   ]
  },
  {
   "cell_type": "markdown",
   "metadata": {},
   "source": [
    "### 6.5) Splitting the data\n",
    "***"
   ]
  },
  {
   "cell_type": "code",
   "execution_count": null,
   "metadata": {},
   "outputs": [],
   "source": [
    "X_train, X_test, y_train, y_test = train_test_split(X, y, test_size=0.2) # splitting the data 80% training, 20% testing"
   ]
  },
  {
   "cell_type": "markdown",
   "metadata": {},
   "source": [
    "### 6.6) Training the model\n",
    "***"
   ]
  },
  {
   "cell_type": "code",
   "execution_count": null,
   "metadata": {},
   "outputs": [],
   "source": [
    "clf = neighbors.KNeighborsClassifier()"
   ]
  },
  {
   "cell_type": "code",
   "execution_count": null,
   "metadata": {},
   "outputs": [],
   "source": [
    "clf.fit(X_train, y_train)"
   ]
  },
  {
   "cell_type": "markdown",
   "metadata": {},
   "source": [
    "### 6.7) Checking model accuracy\n",
    "***"
   ]
  },
  {
   "cell_type": "code",
   "execution_count": null,
   "metadata": {},
   "outputs": [],
   "source": [
    "accuracy = clf.score(X_test, y_test)"
   ]
  },
  {
   "cell_type": "code",
   "execution_count": null,
   "metadata": {},
   "outputs": [],
   "source": [
    "print(accuracy)"
   ]
  },
  {
   "cell_type": "markdown",
   "metadata": {},
   "source": [
    "### 6.8) Make a prediction\n",
    "***"
   ]
  },
  {
   "cell_type": "code",
   "execution_count": null,
   "metadata": {},
   "outputs": [],
   "source": [
    "example_measures = np.array([4,2,1,1,1,2,3,2,1]) # making up an input to feed into the model\n",
    "example_measures = example_measures.reshape(1, -1) # reshaping the data"
   ]
  },
  {
   "cell_type": "code",
   "execution_count": null,
   "metadata": {},
   "outputs": [],
   "source": [
    "prediction = clf.predict(example_measures) # making a prediction\n",
    "print(prediction)"
   ]
  },
  {
   "cell_type": "markdown",
   "metadata": {},
   "source": [
    "## 7) Machine Learning for Tube Classification\n",
    "***\n",
    "Taking an example from my workplace where there are 4 tubes processed. The tubes have two variables UGBL and OD and there are 4 classes numbered 1 to 4."
   ]
  },
  {
   "cell_type": "markdown",
   "metadata": {},
   "source": [
    "### 7.1) Reading in the dataset\n",
    "***"
   ]
  },
  {
   "cell_type": "code",
   "execution_count": null,
   "metadata": {},
   "outputs": [],
   "source": [
    "tube_df = pd.read_csv(\"TubeData2.csv\") # reading in the file\n",
    "tube_df"
   ]
  },
  {
   "cell_type": "code",
   "execution_count": null,
   "metadata": {
    "scrolled": true
   },
   "outputs": [],
   "source": [
    "sns.set_style(\"white\")\n",
    "sns.scatterplot(tube_df['OD'], tube_df['UGBL'], hue=tube_df['Class'])"
   ]
  },
  {
   "cell_type": "markdown",
   "metadata": {},
   "source": [
    "### 7.2) Tidying up the data and setting the variables\n",
    "***"
   ]
  },
  {
   "cell_type": "code",
   "execution_count": null,
   "metadata": {},
   "outputs": [],
   "source": [
    "X = tube_df.drop(['Class'], axis=1) # x variables\n",
    "X.head()"
   ]
  },
  {
   "cell_type": "code",
   "execution_count": null,
   "metadata": {
    "scrolled": true
   },
   "outputs": [],
   "source": [
    "Y = tube_df['Class'] # y variable\n",
    "Y.head()"
   ]
  },
  {
   "cell_type": "markdown",
   "metadata": {},
   "source": [
    "### 7.3) Splitting the data into train and test\n",
    "***"
   ]
  },
  {
   "cell_type": "code",
   "execution_count": null,
   "metadata": {},
   "outputs": [],
   "source": [
    "X_train, X_test, Y_train, Y_test = train_test_split(X, Y, test_size=0.20) # spltting the data into 80/20 train and test."
   ]
  },
  {
   "cell_type": "code",
   "execution_count": null,
   "metadata": {},
   "outputs": [],
   "source": [
    "X_train.shape, Y_train.shape # 80% of the original dataset 200 is 160."
   ]
  },
  {
   "cell_type": "code",
   "execution_count": null,
   "metadata": {},
   "outputs": [],
   "source": [
    "X_test.shape, Y_test.shape # 20% of the original dataset 200 is 40."
   ]
  },
  {
   "cell_type": "markdown",
   "metadata": {},
   "source": [
    "### 7.4) Training the model\n",
    "***"
   ]
  },
  {
   "cell_type": "code",
   "execution_count": null,
   "metadata": {},
   "outputs": [],
   "source": [
    "tube_clf = RandomForestClassifier() # setting RandomForestClassifier() equal to tube_clf."
   ]
  },
  {
   "cell_type": "code",
   "execution_count": null,
   "metadata": {},
   "outputs": [],
   "source": [
    "tube_clf.fit(X_train, Y_train) # training the model using 80% of the data."
   ]
  },
  {
   "cell_type": "markdown",
   "metadata": {},
   "source": [
    "### 7.5) Feature Importance\n",
    "***"
   ]
  },
  {
   "cell_type": "code",
   "execution_count": null,
   "metadata": {},
   "outputs": [],
   "source": [
    "print(tube_clf.feature_importances_)"
   ]
  },
  {
   "cell_type": "markdown",
   "metadata": {},
   "source": [
    "### 7.6) Making Predictions\n",
    "***"
   ]
  },
  {
   "cell_type": "code",
   "execution_count": null,
   "metadata": {},
   "outputs": [],
   "source": [
    "tube_df"
   ]
  },
  {
   "cell_type": "code",
   "execution_count": null,
   "metadata": {},
   "outputs": [],
   "source": [
    "print(tube_clf.predict([[19.27, 1.57]])) # make prediction using the inputs provided.\n",
    "print(tube_clf.predict([[26.84, 1.80]])) # make prediction using the inputs provided.\n",
    "print(tube_clf.predict([[28.4, 1.576]])) # make prediction using the inputs provided.\n",
    "print(tube_clf.predict([[19.27, 1.80]])) # make prediction using the inputs provided."
   ]
  },
  {
   "cell_type": "code",
   "execution_count": null,
   "metadata": {},
   "outputs": [],
   "source": [
    "print(tube_clf.predict(X_test)) # make predictions on the 20% of the data left out from training the model."
   ]
  },
  {
   "cell_type": "code",
   "execution_count": null,
   "metadata": {},
   "outputs": [],
   "source": [
    "Y_test.tail() # the 20% of the labeled data, will be used to make comparisons with the predictions."
   ]
  },
  {
   "cell_type": "markdown",
   "metadata": {},
   "source": [
    "### 7.7) Model score\n",
    "***"
   ]
  },
  {
   "cell_type": "code",
   "execution_count": null,
   "metadata": {},
   "outputs": [],
   "source": [
    "print(tube_clf.score(X_test, Y_test)) # compares the predicted with the actual."
   ]
  },
  {
   "cell_type": "markdown",
   "metadata": {},
   "source": [
    "## 8) Summary\n",
    "***\n",
    "This notebook starts out with an overview of the scikit-learn Python library; what it is, where it came from and where and why it is used. The next section details machine learning and it's relationship to artificial intelligence and computer science. Where machine learning is used, how common it has become and how it's used on a daily basis across everything from streaming platforms to banks and social media is discussed. \n",
    "\n",
    "Technical aspects of machine learning such as the supervised and unsupervised approaches are discussed before looking at machine learning algorithms in scikit-learn. Three scikit-learn algorithms are then discussed and demonstrated:\n",
    "\n",
    "* LinearRegression()\n",
    "* RandomForestClassifier()\n",
    "* KNeighborsClassifier()\n",
    "\n",
    "With the introduction complete and some background on machine learning along with the selection of three scikit-learn algorithm the next section of the notebook provides some practical examples of each of the three algorithms. \n",
    "\n",
    "* For the LinearRegression() algorithm the diabetes dataset and the Boston Housing dataset are used for demonstration. \n",
    "* For the RandomForestClassifier() algorithm the Iris dataset along with a dataset obtained from my workplace are used for demonstration.\n",
    "* For the KNeighborsClassifier() algorithm the breast-cancer-wisconsin dataset was used for demonstration."
   ]
  },
  {
   "cell_type": "markdown",
   "metadata": {},
   "source": [
    "## 9) Conclusion\n",
    "***\n",
    "This assessment was really interesting, initially starting off it seemed really difficult. The concept of training a machine seemed like something only highly qualified and skilled programmers could do. Although initially it took some time to get an understanding of machine learning concepts such as supervised and unsupervised learning, it was an enjoyable learning experience. \n",
    "\n",
    "The biggest eye opening part of completing this assessment was the power of the scikit-learn library in Python and how intuitive and straight forward it is to use. Given a dataset and a couple of lines of code it's possible to train a machine to make predictions based on inputs it never seen before. I can only imagine the work and effort that went into creating and maintaining this library.\n",
    "\n",
    "The coolest thing about building the knowledge around machine learning and the scikit-learn package was that I was able to take some data from my workplace and train the machine to make a prediction. My plan is to present this to my colleagues in work and to show them the power of the scikit-learn package within Python."
   ]
  },
  {
   "cell_type": "markdown",
   "metadata": {},
   "source": [
    "## 10) References\n",
    "***\n",
    "[1] scikit-learn; Machine Learning in Python; https://scikit-learn.org/stable/\n",
    "\n",
    "[2] tutorialspoint; Scikit Learn - Introduction; https://www.tutorialspoint.com/scikit_learn/scikit_learn_introduction.htm\n",
    "\n",
    "[3] Snehit Vaddi; Most used Scikit-Learn Algorithms;  https://medium.com/analytics-vidhya/most-used-scikit-learn-algorithms-part-1-snehit-vaddi-7ec0c98e4edd\n",
    "\n",
    "[4] Udemy; SciKit-Learn in Python for Machine Learning Engineers; https://www.udemy.com/course/scikit-learn-in-python-for-machine-learning-engineers/\n",
    "\n",
    "[5] Technology Review; What is machine learning?; https://www.technologyreview.com/2018/11/17/103781/what-is-machine-learning-we-drew-you-another-flowchart/\n",
    "\n",
    "[6] cloudfactory; The Ultimate Guide to Data Labeling for Machine Learning; https://www.cloudfactory.com/data-labeling-guide#:~:text=What%20is%20labeled%20data%3F,machine%20learning%20model%20to%20predict.\n",
    "\n",
    "[7] IBM; Supervised vs. Unsupervised Learning: What’s the Difference?; https://www.ibm.com/cloud/blog/supervised-vs-unsupervised-learning\n",
    "\n",
    "[8] Jason Brownlee; Difference Between Classification and Regression in Machine Learning; https://machinelearningmastery.com/classification-versus-regression-in-machine-learning/\n",
    "\n",
    "[9] scikit-learn; sklearn.ensemble.RandomForestClassifier; https://scikit-learn.org/stable/modules/generated/sklearn.ensemble.RandomForestClassifier.html\n",
    "\n",
    "[10] datacamp; KNN Classification using Scikit-learn; https://www.datacamp.com/community/tutorials/k-nearest-neighbor-classification-scikit-learn\n",
    "\n",
    "[11] Data Professor; Machine Learning in Python: Building a Linear Regression Model; https://www.youtube.com/watch?v=R15LjD8aCzc\n",
    "\n",
    "[12] Data Professor; Machine Learning in Python: Building a Classification Model; https://www.youtube.com/watch?v=XmSlFPDjKdc\n",
    "\n",
    "[13] sentdex; K Nearest Neighbors Application - Practical Machine Learning Tutorial with Python p.14; https://www.youtube.com/watch?v=1i0zu9jHN6U"
   ]
  },
  {
   "cell_type": "markdown",
   "metadata": {},
   "source": [
    "## End\n",
    "***"
   ]
  }
 ],
 "metadata": {
  "kernelspec": {
   "display_name": "Python 3",
   "language": "python",
   "name": "python3"
  },
  "language_info": {
   "codemirror_mode": {
    "name": "ipython",
    "version": 3
   },
   "file_extension": ".py",
   "mimetype": "text/x-python",
   "name": "python",
   "nbconvert_exporter": "python",
   "pygments_lexer": "ipython3",
   "version": "3.8.3"
  }
 },
 "nbformat": 4,
 "nbformat_minor": 4
}
